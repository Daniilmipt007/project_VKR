{
 "cells": [
  {
   "cell_type": "code",
   "execution_count": null,
   "metadata": {},
   "outputs": [],
   "source": [
    "# Download data\n",
    "\n",
    "\n",
    "import bdds\n",
    "\n",
    "\n",
    "ds = bdds.HandShapeDecoding('./data/handshape')\n",
    "dat = ds.get(subject='S1')"
   ]
  },
  {
   "cell_type": "code",
   "execution_count": null,
   "metadata": {},
   "outputs": [],
   "source": [
    "# Brain decoding example\n",
    "\n",
    "\n",
    "from sklearn.svm import SVC\n",
    "from sklearn.metrics import accuracy_score\n",
    "\n",
    "import bdpy\n",
    "import bdpy.ml\n",
    "\n",
    "\n",
    "x = dat.select('M1')\n",
    "y = dat.select('Label')\n",
    "runs = dat.select('Run')\n",
    "\n",
    "cvindex = bdpy.ml.cvindex_groupwise(runs)\n",
    "\n",
    "pred_accuracy = []\n",
    "\n",
    "for train_ind, test_ind in cvindex:\n",
    "    x_train = x[train_ind, :]\n",
    "    x_test  = x[test_ind, :]\n",
    "    y_train = y[train_ind, :].flatten()\n",
    "    y_test  = y[test_ind, :].flatten()\n",
    "    \n",
    "    x_mean = np.mean(x_train, axis=0)\n",
    "    x_std = np.std(x_train, axis=0)\n",
    "    \n",
    "    x_train = (x_train - x_mean) / x_std\n",
    "    x_test  = (x_test - x_mean) / x_std\n",
    "\n",
    "    model = SVC(kernel='linear')\n",
    "    \n",
    "    model.fit(x_train, y_train)\n",
    "    \n",
    "    y_pred = model.predict(x_test)\n",
    "    y_true = y_test\n",
    "    \n",
    "    acc = accuracy_score(y_true, y_pred)\n",
    "    pred_accuracy.append(acc)\n",
    "\n",
    "print('Classification accuracy: %f' % np.mean(pred_accuracy))  # => 0.816667"
   ]
  }
 ],
 "metadata": {
  "kernelspec": {
   "display_name": "Python 2",
   "language": "python",
   "name": "python2"
  },
  "language_info": {
   "codemirror_mode": {
    "name": "ipython",
    "version": 2
   },
   "file_extension": ".py",
   "mimetype": "text/x-python",
   "name": "python",
   "nbconvert_exporter": "python",
   "pygments_lexer": "ipython2",
   "version": "2.7.13"
  }
 },
 "nbformat": 4,
 "nbformat_minor": 2
}
