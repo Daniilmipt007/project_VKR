{
 "cells": [
  {
   "cell_type": "code",
   "execution_count": 304,
   "metadata": {},
   "outputs": [],
   "source": [
    "import matplotlib.pyplot as plt\n",
    "import numpy as np\n",
    "import pandas as pd\n",
    "import warnings\n",
    "import nilearn\n",
    "\n",
    "from nilearn.datasets import fetch_haxby\n",
    "from nilearn import input_data, plotting, image\n",
    "from nilearn.image import load_img\n",
    "from nilearn.image.image import mean_img\n",
    "from nilearn.plotting.img_plotting import plot_epi, plot_roi\n",
    "import nibabel as nib\n",
    "\n",
    "# По использованию nilearn есть notebook на диске"
   ]
  },
  {
   "cell_type": "code",
   "execution_count": 170,
   "metadata": {},
   "outputs": [],
   "source": [
    "warnings.filterwarnings('ignore')"
   ]
  },
  {
   "cell_type": "markdown",
   "metadata": {},
   "source": [
    "\\section{Постановка задачи}\n",
    "Исследуется задача декодирования временного ряда. Пусть имеется некоторый процесс (активность головного мозга):\n",
    "$$\\mathcal{V}(\\tau),~\\tau \\in \\mathbb{R}$$\n",
    "Тогда данные выборки ~--- это регистрируемый сигнал, то есть реализация процесса $\\mathcal{V}(\\tau)$:\n",
    "$$\\bm{X} = \\left[\\bm{x}_1,\\dots \\bm{x}_{T}\\right], \\quad \\bm{x}_t \\in \\mathbb{R}^K$$\n",
    "Здесь $K$ ~--- число каналов. $T$ ~--- число измерений сигнала с частотой $\\mu$ за время $\\tau$:\n",
    "$$T = \\tau \\mu$$\n",
    "$$\\bm{x}_{\\tau \\mu} \\approx \\mathcal{V}(\\tau)$$\n",
    "\\subsection{Задача классификации отрезков регистрируемого сигнала}\n",
    "В данной задаче имеется выборка регистрируемых отрезков сигнала, \n",
    "требуется классифицировать каждый наблюдаемый временной отрезок. \n",
    "Введем следующие обозначения:\n",
    "Пусть имеется $N$ зарегистрированных реализаций некоторого процесса:\n",
    "$$\\bm{X} = \\{\\bm{X}_1,\\dots, \\bm{X}_N\\},$$\n",
    "$$\\bm{X}_i = \\left[\\bm{x}^i_1,\\dots, \\bm{x}^i_{T}\\right], \\quad \\bm{x}^i_t \\in \\mathbb{R}^K,$$\n",
    "$$\\bm{Y} = \\left[y_1, \\dots, y_{N}\\right]^{\\T}, \\quad y_i \\in \\{1,\\dots, C\\},$$\n",
    "Здесь $y_i$~--- целевая метка класса $i$-го зарегистрированного сигнала. $C$ ~--- число классов в задаче классификации сигнала. \n",
    "\n",
    "Имеется соответственно выборка $\\mathcal{D} = \\{y_i, \\bm{X}_i\\},~  i = \\overline{1,N}$\n",
    "Требуется построить отображение $f_\\theta$, которое учитывало \n",
    "бы пространственно-временные характеристиик между временными рядами от датчиков:\n",
    "$$f_\\theta: \\bm{X} \\rightarrow \\{1,\\dots, C\\}$$ \n",
    "\\subsection{Задача классификации активности}\n",
    "В данной задаче предполагается получение классификации для каждого отсчета \n",
    "времени наблюдения.\n",
    "Пусть имеется некоторый процесс и зарегистрированная реализация данного \n",
    "процесса в виде дискретного числа измерений. Каждому измерению соответствует\n",
    "класс активности. Формально:\n",
    "$$\\bm{X} = \\{\\bm{x}_1,\\dots, \\bm{x}_{T}\\}, \\quad \\bm{x}_t \\in \\mathbb{R}^K,$$\n",
    "$$\\bm{Y} = \\left[y_1, \\dots, y_{T}\\right]^{\\T},\\quad y_t \\in \\{1,\\dots, C\\},$$\n",
    "Здесь $C$ ~--- число классов в задаче классификации активности. \n",
    "Выборка $\\mathcal{D} = \\{y_t, \\bm{x}_t\\}_{t=1}^T$\n",
    "\n",
    "Для набора данных, описанного выше, требуется построить отображение $f_\\theta$, которое учитывало \n",
    "бы пространственно-временные характеристиик между временными рядами сигнала:\n",
    "$$f_\\theta: \\bm{X} \\rightarrow \\bm{Y}$$ \n",
    "\n",
    "\\subsection{Задача классификации временных рядов фМРТ}\n",
    "Пусть имеется $N$ многомерных временных рядов снимков фМРТ длины $T$:\n",
    "\\begin{equation*} \n",
    "\t\\bm{S} = \\{\\bm{S}_1,\\dots, \\bm{S}_{N}\\},\n",
    "\\end{equation*}\n",
    "\\begin{equation*}\n",
    "\t\\bm{S}_i = [\\bm{s}_{1}^i, \\ldots, \\bm{s}_{T}^i], \\quad\n",
    "\t\\bm{s}_{t}^i \\in \\mathbb{R}^{X \\times Y \\times Z},\n",
    "\\end{equation*}\n",
    "$$\\bm{Y} = \\left[y_1, \\dots, y_{N}\\right]^{\\T},\\quad y_i \\in \\{1,\\dots, C\\},$$\n",
    "где $X, Y$ и $Z$~--- размерности воксельного изображения, \n",
    "$y_i$~--- целевая метка $i$-ой последовательности фМРТ снимков. \n",
    "$C$ ~--- число классов в задаче классификации временных рядов фМРТ. \n",
    "\n",
    "Имеется соответственно выборка $\\mathcal{D} = \\{y_i, \\bm{S}_i\\},~ i = \\overline{1,N}$.\n",
    "Требуется построить отображение $f_\\theta$, которое учитывало \n",
    "бы пространственно-временные характеристиик между временными рядами фМРТ:\n",
    "$$f_\\theta: \\bm{S} \\rightarrow \\{1,\\dots, C\\}$$  \n",
    "\n",
    "\\subsection{Задача классификации отрезков временного ряда фМРТ одного испытуемого}\n",
    "С учётом индивидуальных анатомических особенностей головы и уникальной реакции на предъявляемые стимулы для каждого человека, \n",
    "требуется разработать модель классификации, которую можно настроить индивидуально под данные конкретного индивида. \n",
    "Формализуем задачу.\n",
    "\n",
    "Предположим, что у нас имеется одно непрерывное измерение фМРТ с дискретным представлением времени для конкретного человека:\n",
    "\\begin{equation*}\n",
    "\t\\bm{S} = [\\bm{s}_{1}, \\ldots, \\bm{s}_{T}], \\quad \\bm{s}_{t} \\in \\mathbb{R}^{X \\times Y \\times Z},\n",
    "\\end{equation*}\n",
    "где $X, Y$ и $Z$~--- размерности воксельного изображения, $T$~--- длина временного ряда фМРТ. \n",
    "В ходе процедуры фМРТ человеку демонстрируются стимулы различных категорий. \n",
    "Либо человек выполняет моторные или когнетивные задания различных типов. \n",
    "Для удобства дальнейшего изложения мы будем говорить в парадигме стимулов.\n",
    "Пусть имеется временной ряд стимулов:\n",
    "\\begin{equation*}\n",
    "\t\\bm{Q} = [{q}_{1}, \\ldots, {q}_{T}], \\quad {q}_{t} \\in \\{0,\\dots, C},\n",
    "\\end{equation*}\n",
    "где ${1,\\dots, C}$ ~--- множество классов стимулов, которые демонстрируют испытуемому. $0$~--- класс, обозначающий моменты отдыха испытуемого.\n",
    "Необходимо разделить временной ряд на отрезки фиксированной длины $\\tau$ в соответствии с категориями представленных стимулов.\n",
    "\n",
    "Пусть теперь имеется $N$ отрезков многомерного временного ряда фМРТ длины $\\tau$, полученных при решении предыдущей задачи:\n",
    "\\begin{equation*} \n",
    "\t\\hat{\\bm{S}} = \\{\\bm{S}_1,\\dots, \\bm{S}_{N}\\},\n",
    "\\end{equation*}\n",
    "\\begin{equation*}\n",
    "\t\\bm{S}_i = [\\bm{s}_{1}^i, \\ldots, \\bm{s}_{\\tau}^i], \\quad\n",
    "\t\\bm{s}_{t}^i \\in \\mathbb{R}^{X \\times Y \\times Z},\n",
    "\\end{equation*}\n",
    "$$\\bm{Y} = \\left[y_1, \\dots, y_{N}\\right]^{\\T},\\quad y_i \\in \\{1,\\dots, C\\},$$\n",
    "где $y_i$~--- целевая метка класса последовательности фМРТ снимков $\\bm{S}_i$.  \n",
    "\n",
    "Имеется соответственно выборка $\\mathcal{D} = \\{y_i, \\bm{S}_i\\},~ i = \\overline{1,N}$.\n",
    "Требуется построить отображение $f_\\theta$, которое учитывало \n",
    "бы пространственно-временные характеристиик в задаче классификации многомерных временных рядов:\n",
    "$$f_\\theta: \\hat{\\bm{S}} \\rightarrow \\{1,\\dots, C\\}$$  \n",
    "\n",
    "\\section{Предлагаемый метод классификации временных рядов фМРТ}\n",
    "\\subsection{Сегментация данных фМРТ}\n",
    "\\textit{TODO: формализовать идею}\n",
    "При работе с данными фМРТ часто возникает проблема сегментации длинной \n",
    "последовательности фМРТ снимков на отрезки меньшей длины для последующей классификации.\n",
    "Данная задача акутуальна в работе, поскольку медицинских данных обычно не хватает на практике для обучения \n",
    "сложных моделей. Будем для простоты считать, что в данных имеется разметка моментов наблюдения стимулов и моментов отдыха испытуемого.\n",
    "Один из подходов решения данной проблемы отбирать сегменты соотвествующие определенному классу стимулов и брать некоторую окрестность с \n",
    "моментами отдыха испытуемого. \n",
    "\n",
    "Далее необходимо проверить, что средняя по вокселям дисперсия привышает заданный порог. \n",
    "Данное условие означает, что во время просмотра стимулов активизировалось область мозга достаточного объема для последующего анализа и классификации.\n",
    "Этот метод может быть адаптирован в зависимости от конкретных требований задачи. \n",
    "Важно отметить, что подбор порога может потребовать тестирования и анализа результатов на валидационных данных.\n",
    "Возможно использование перекрытия между сегментами, чтобы учесть динамику изменений в данных и сделать классификацию более устойчивой.\n",
    "\n",
    "\\subsection{Маскирование снимков фМРТ}\n",
    "\n",
    "\\begin{figure}[h!]\n",
    "    \\centering\n",
    "    \\includegraphics[width=0.8\\textwidth]{cross_correlations.pdf}\n",
    "    \\caption{Regions of interest obtained as a result of cross-correlation analysis with the video sequence character}\n",
    "\\end{figure}\n",
    "\\begin{figure}[h!]\n",
    "    \\centering\n",
    "    \\includegraphics[width=0.8\\textwidth]{cross_correlations_trash.pdf}\n",
    "    \\caption{Regions of interest obtained as a result of cross-correlation analysis with noise}\n",
    "\\end{figure}"
   ]
  },
  {
   "cell_type": "markdown",
   "metadata": {},
   "source": [
    "## Haxby datset\n",
    "\n",
    "Во время эксперимента испытуемым показывали различные изображения. Категории изображений представляются в метках, а именно каждая метка соответствует определенной категории изображений. Например, если в эксперименте использовались изображения различных объектов, метки могут обозначать какие-то определенные объекты. Таким образом, задача классификации заключается в том, чтобы по фМРТ-снимкам предсказать, какой класс картинок наблюдал испытуемый.\n",
    "\n",
    "Классы:\n",
    "- bottle\n",
    "- cat\n",
    "- chair\n",
    "- face\n",
    "- house\n",
    "- scissors\n",
    "- scrambledpix\n",
    "- shoe\n",
    "Также присутствует rest, когда испытуемому ничего не показывали"
   ]
  },
  {
   "cell_type": "code",
   "execution_count": 291,
   "metadata": {},
   "outputs": [],
   "source": [
    "class haxby_dataset():\n",
    "    def __init__(self):\n",
    "        path = '\\data_fmri'\n",
    "        self.data_files = fetch_haxby(data_dir=path, subjects=(1, 2, 3, 4, 5, 6), fetch_stimuli=True, url=None, resume=True, verbose=1)\n",
    "\n",
    "\n",
    "    def get_sub_data(self, num):\n",
    "        # пути к данным\n",
    "        fmri_data = self.data_files['func'][num-1]  # фМРТ-снимки\n",
    "        labels = self.data_files['session_target'][num-1] # метки классов\n",
    "\n",
    "        fmri_img = nib.load(fmri_data)\n",
    "        fmri_array = fmri_img.get_fdata()\n",
    "        labels_frame = pd.read_csv(labels, delimiter=' ')\n",
    "        return fmri_array, labels_frame\n",
    "    \n",
    "\n",
    "    def plot_stimuli(self):\n",
    "        stimulus_information = self.data_files.stimuli\n",
    "\n",
    "        for stim_type in stimulus_information:\n",
    "            # skip control images, there are too many\n",
    "            if stim_type != 'controls':\n",
    "\n",
    "                file_names = stimulus_information[stim_type]\n",
    "                file_names = file_names[0:16]\n",
    "                fig, axes = plt.subplots(4, 4)\n",
    "                fig.suptitle(stim_type)\n",
    "\n",
    "                for img_path, ax in zip(file_names, axes.ravel()):\n",
    "                    ax.imshow(plt.imread(img_path), cmap=plt.cm.gray)\n",
    "\n",
    "                for ax in axes.ravel():\n",
    "                    ax.axis(\"off\")\n",
    "        plt.show()\n"
   ]
  },
  {
   "cell_type": "code",
   "execution_count": 292,
   "metadata": {},
   "outputs": [],
   "source": [
    "dataset = haxby_dataset()\n",
    "datafiles = dataset.data_files"
   ]
  },
  {
   "cell_type": "code",
   "execution_count": 301,
   "metadata": {},
   "outputs": [],
   "source": [
    "# Описание датасета\n",
    "#print(datafiles['description'])"
   ]
  },
  {
   "cell_type": "code",
   "execution_count": 293,
   "metadata": {},
   "outputs": [],
   "source": [
    "# отрисовка стимулов \n",
    "#dataset.plot_stimuli()"
   ]
  },
  {
   "cell_type": "markdown",
   "metadata": {},
   "source": [
    "Получим данные первого испытуемого"
   ]
  },
  {
   "cell_type": "code",
   "execution_count": 294,
   "metadata": {},
   "outputs": [],
   "source": [
    "fmris, labels = dataset.get_sub_data(1)"
   ]
  },
  {
   "cell_type": "code",
   "execution_count": 235,
   "metadata": {},
   "outputs": [
    {
     "data": {
      "text/plain": [
       "(40, 64, 64, 1452)"
      ]
     },
     "execution_count": 235,
     "metadata": {},
     "output_type": "execute_result"
    }
   ],
   "source": [
    "fmris.shape"
   ]
  },
  {
   "cell_type": "code",
   "execution_count": 175,
   "metadata": {},
   "outputs": [
    {
     "data": {
      "text/html": [
       "<div>\n",
       "<style scoped>\n",
       "    .dataframe tbody tr th:only-of-type {\n",
       "        vertical-align: middle;\n",
       "    }\n",
       "\n",
       "    .dataframe tbody tr th {\n",
       "        vertical-align: top;\n",
       "    }\n",
       "\n",
       "    .dataframe thead th {\n",
       "        text-align: right;\n",
       "    }\n",
       "</style>\n",
       "<table border=\"1\" class=\"dataframe\">\n",
       "  <thead>\n",
       "    <tr style=\"text-align: right;\">\n",
       "      <th></th>\n",
       "      <th>labels</th>\n",
       "      <th>chunks</th>\n",
       "    </tr>\n",
       "  </thead>\n",
       "  <tbody>\n",
       "    <tr>\n",
       "      <th>0</th>\n",
       "      <td>rest</td>\n",
       "      <td>0</td>\n",
       "    </tr>\n",
       "    <tr>\n",
       "      <th>1</th>\n",
       "      <td>rest</td>\n",
       "      <td>0</td>\n",
       "    </tr>\n",
       "    <tr>\n",
       "      <th>2</th>\n",
       "      <td>rest</td>\n",
       "      <td>0</td>\n",
       "    </tr>\n",
       "    <tr>\n",
       "      <th>3</th>\n",
       "      <td>rest</td>\n",
       "      <td>0</td>\n",
       "    </tr>\n",
       "    <tr>\n",
       "      <th>4</th>\n",
       "      <td>rest</td>\n",
       "      <td>0</td>\n",
       "    </tr>\n",
       "  </tbody>\n",
       "</table>\n",
       "</div>"
      ],
      "text/plain": [
       "  labels  chunks\n",
       "0   rest       0\n",
       "1   rest       0\n",
       "2   rest       0\n",
       "3   rest       0\n",
       "4   rest       0"
      ]
     },
     "execution_count": 175,
     "metadata": {},
     "output_type": "execute_result"
    }
   ],
   "source": [
    "labels.head()"
   ]
  },
  {
   "cell_type": "markdown",
   "metadata": {},
   "source": [
    "---"
   ]
  },
  {
   "cell_type": "markdown",
   "metadata": {},
   "source": [
    "### Маски активности\n",
    "A common operation in fMRI analyses is masking: extracting particular voxels from the entire dataset, usually based on a binary brain mask. Masking, at least in fMRI analyses, is often done on the spatial dimensions of 4D images; as such, masking can be seen as a operation that takes in a 4D image with spatial dimensions  X×Y×Z  and temporal dimension  T  and returns a  T×K  2D array, where  K  is the number of voxels that \"survived\" (for lack of a better word) the masking procedure.\n",
    "\n",
    "Reasons to mask your data could be, for example, to exclude non-brain voxels (like in skullstripping) or to perform confirmatory region-of-interest (ROI) analyses, or to extract one or multiple \"seed regions\" for connectivity analyses.\n",
    "\n",
    "Nilearn provides several functions and classes that perform masking, which differ in how extensive they are (some only perform masking on a single image, others do this for multiple images at the same time, and/or may additionally perform preprocessing steps). Importantly, all take in a 4D niimg-like object and return a 2D numpy array.\n",
    "\n",
    "We'll first take a look at the most simple and low-level implementation: apply_mask. This function takes in a 4D image (which will be masked), a binary 3D image (i.e., with only zeros and ones, where ones indicate that they should be included) as mask, and optionally a smoothing kernel size (FWHM in millimeters) and returns a masked 2D array. Let's do this for our data (func_img_run1) using the brain mask (func_mask) you computed earlier.\n",
    "\n",
    "The ventral temporal cortex. Эта маска была создана в рамках исследования Haxby(2001) и выделяет часть мозга, специализирующуюся на обработке визуальной информации, и которая содержит области, чувствительные к различным типам категорий изображений. Далее проводим анализ для первого испытуемого"
   ]
  },
  {
   "cell_type": "code",
   "execution_count": 195,
   "metadata": {},
   "outputs": [],
   "source": [
    "vt_mask_filename = load_img(datafiles.mask_vt[0])\n",
    "func_filename = datafiles.func[0]\n",
    "mean_haxby = mean_img(func_filename)\n",
    "vt_mask = vt_mask_filename.get_fdata().shape"
   ]
  },
  {
   "cell_type": "code",
   "execution_count": 392,
   "metadata": {},
   "outputs": [
    {
     "data": {
      "text/plain": [
       "<nilearn.plotting.displays._slicers.OrthoSlicer at 0x1e80abc9bb0>"
      ]
     },
     "execution_count": 392,
     "metadata": {},
     "output_type": "execute_result"
    },
    {
     "data": {
      "image/png": "[encoded data removed]",
      "text/plain": [
       "<Figure size 475.2x252 with 4 Axes>"
      ]
     },
     "metadata": {},
     "output_type": "display_data"
    }
   ],
   "source": [
    "plot_roi(vt_mask_filename, bg_img=mean_haxby, title = 'Активные области мозга', draw_cross=True, \n",
    "                  cmap='Paired')"
   ]
  },
  {
   "cell_type": "code",
   "execution_count": 398,
   "metadata": {},
   "outputs": [
    {
     "data": {
      "text/plain": [
       "<nilearn.plotting.displays._slicers.OrthoSlicer at 0x1e80cce40d0>"
      ]
     },
     "execution_count": 398,
     "metadata": {},
     "output_type": "execute_result"
    },
    {
     "data": {
      "image/png": "[encoded data removed]",
      "text/plain": [
       "<Figure size 475.2x252 with 4 Axes>"
      ]
     },
     "metadata": {},
     "output_type": "display_data"
    }
   ],
   "source": [
    "plot_epi(mean_haxby, cut_coords=(0, 0, 0), cmap='magma', title = 'Усредненный снимок фМРТ')"
   ]
  },
  {
   "cell_type": "code",
   "execution_count": 197,
   "metadata": {},
   "outputs": [],
   "source": [
    "# Применение маски активации к фмрт снимкам\n",
    "masker = input_data.NiftiMasker(mask_img=vt_mask_filename, standardize=True)\n",
    "fmri_masked = masker.fit_transform(func_filename)"
   ]
  },
  {
   "cell_type": "code",
   "execution_count": 153,
   "metadata": {},
   "outputs": [
    {
     "data": {
      "text/plain": [
       "(1452, 577)"
      ]
     },
     "execution_count": 153,
     "metadata": {},
     "output_type": "execute_result"
    }
   ],
   "source": [
    "fmri_masked.shape"
   ]
  },
  {
   "cell_type": "markdown",
   "metadata": {},
   "source": [
    "---"
   ]
  },
  {
   "cell_type": "markdown",
   "metadata": {},
   "source": [
    "### Подготовка данных\n",
    "Данные первого испытуемого хранятся в переменных fmris, labels, разделим последовательность на временные ряды по классам"
   ]
  },
  {
   "cell_type": "code",
   "execution_count": 250,
   "metadata": {},
   "outputs": [],
   "source": [
    "# Определение классов и их индексов\n",
    "unique_classes = np.unique(labels['labels'].values)\n",
    "\n",
    "# Создание словаря, в котором ключами будут классы, а значениями будут соответствующие им временные ряды\n",
    "class_data = {cls: [] for cls in unique_classes}\n",
    "\n",
    "current_class = labels['labels'].values[0]\n",
    "current_sequence = [fmris[:,:,:,0]]\n",
    "\n",
    "# Итерация по данным и создание временных рядов для каждого класса\n",
    "for i in range(1, len(labels)):\n",
    "    if labels['labels'].values[i] == current_class:\n",
    "        current_sequence.append(fmris[:,:,:,i])\n",
    "    else:\n",
    "        class_data[current_class].append(np.array(current_sequence))\n",
    "        current_class = labels['labels'].values[i]\n",
    "        current_sequence = [fmris[:,:,:,i]]\n",
    "\n",
    "# Добавление последней последовательности\n",
    "class_data[current_class].append(np.array(current_sequence))"
   ]
  },
  {
   "cell_type": "code",
   "execution_count": 272,
   "metadata": {},
   "outputs": [
    {
     "data": {
      "text/plain": [
       "array(['bottle', 'cat', 'chair', 'face', 'house', 'rest', 'scissors',\n",
       "       'scrambledpix', 'shoe'], dtype=object)"
      ]
     },
     "execution_count": 272,
     "metadata": {},
     "output_type": "execute_result"
    }
   ],
   "source": [
    "unique_classes "
   ]
  },
  {
   "cell_type": "code",
   "execution_count": 288,
   "metadata": {},
   "outputs": [
    {
     "data": {
      "text/plain": [
       "12"
      ]
     },
     "execution_count": 288,
     "metadata": {},
     "output_type": "execute_result"
    }
   ],
   "source": [
    "len(class_data['chair'])"
   ]
  },
  {
   "cell_type": "code",
   "execution_count": 290,
   "metadata": {},
   "outputs": [
    {
     "data": {
      "text/plain": [
       "(9, 40, 64, 64)"
      ]
     },
     "execution_count": 290,
     "metadata": {},
     "output_type": "execute_result"
    }
   ],
   "source": [
    "class_data['chair'][11].shape"
   ]
  },
  {
   "cell_type": "markdown",
   "metadata": {},
   "source": [
    "---\n",
    "## Dataset miyawaki2008"
   ]
  },
  {
   "cell_type": "code",
   "execution_count": 389,
   "metadata": {},
   "outputs": [],
   "source": [
    "path = '\\data_fmri_miyawaki2008'\n",
    "data_files = nilearn.datasets.fetch_miyawaki2008(data_dir=path, url=None, resume=True, verbose=1)\n",
    "\n",
    "# Получение информации о датасете\n",
    "#print(data_files['description'])"
   ]
  },
  {
   "cell_type": "code",
   "execution_count": 334,
   "metadata": {},
   "outputs": [],
   "source": [
    "# пути к данным\n",
    "fmri_data = data_files['func'][0]  # фМРТ-снимки\n",
    "labels = data_files['label'][0] # метки классов\n",
    "\n",
    "fmri_img = nib.load(fmri_data)\n",
    "fmri_array = fmri_img.get_fdata()\n",
    "\n",
    "\n",
    "stimulus_shape = (10, 10)\n",
    "# We load the visual stimuli from csv files\n",
    "stimuli = []\n",
    "\n",
    "stimuli.append(\n",
    "    np.reshape(\n",
    "        np.loadtxt(labels, dtype=int, delimiter=\",\"),\n",
    "        (-1,) + stimulus_shape,\n",
    "        order=\"F\",\n",
    "    )\n",
    ")\n",
    "stimuli = np.array(stimuli)[0]"
   ]
  },
  {
   "cell_type": "code",
   "execution_count": 374,
   "metadata": {},
   "outputs": [
    {
     "data": {
      "text/plain": [
       "array([[-1, -1, -1, -1, -1, -1, -1, -1, -1, -1],\n",
       "       [-1, -1, -1, -1, -1, -1, -1, -1, -1, -1],\n",
       "       [-1, -1, -1, -1, -1, -1, -1, -1, -1, -1],\n",
       "       [-1, -1, -1, -1, -1, -1, -1, -1, -1, -1],\n",
       "       [-1, -1, -1, -1, -1, -1, -1, -1, -1, -1],\n",
       "       [-1, -1, -1, -1, -1, -1, -1, -1, -1, -1],\n",
       "       [-1, -1, -1, -1, -1, -1, -1, -1, -1, -1],\n",
       "       [-1, -1, -1, -1, -1, -1, -1, -1, -1, -1],\n",
       "       [-1, -1, -1, -1, -1, -1, -1, -1, -1, -1],\n",
       "       [-1, -1, -1, -1, -1, -1, -1, -1, -1, -1]])"
      ]
     },
     "execution_count": 374,
     "metadata": {},
     "output_type": "execute_result"
    }
   ],
   "source": [
    "stimuli[0]"
   ]
  },
  {
   "cell_type": "code",
   "execution_count": 375,
   "metadata": {},
   "outputs": [
    {
     "data": {
      "text/plain": [
       "(64, 64, 30, 130)"
      ]
     },
     "execution_count": 375,
     "metadata": {},
     "output_type": "execute_result"
    }
   ],
   "source": [
    "fmri_array.shape"
   ]
  },
  {
   "cell_type": "markdown",
   "metadata": {},
   "source": [
    "---"
   ]
  }
 ],
 "metadata": {
  "kernelspec": {
   "display_name": "base",
   "language": "python",
   "name": "python3"
  },
  "language_info": {
   "codemirror_mode": {
    "name": "ipython",
    "version": 3
   },
   "file_extension": ".py",
   "mimetype": "text/x-python",
   "name": "python",
   "nbconvert_exporter": "python",
   "pygments_lexer": "ipython3",
   "version": "3.8.8"
  }
 },
 "nbformat": 4,
 "nbformat_minor": 2
}
